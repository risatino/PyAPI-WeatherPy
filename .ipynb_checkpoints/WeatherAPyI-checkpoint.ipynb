{
 "cells": [
  {
   "cell_type": "code",
   "execution_count": null,
   "metadata": {
    "collapsed": true
   },
   "outputs": [],
   "source": [
    "# main dependencies\n",
    "import pandas as pd\n",
    "from citipy import citipy\n",
    "import matplotlib.pyplot as plt\n",
    "import random\n",
    "\n",
    "# dependencies for OpenWeatherMap API\n",
    "import json\n",
    "import requests\n",
    "from config import api_key\n",
    "import numpy as np\n",
    "\n",
    "# dependencies for plots\n",
    "import time"
   ]
  },
  {
   "cell_type": "code",
   "execution_count": null,
   "metadata": {},
   "outputs": [],
   "source": [
    "# config info\n",
    "url = \"http://api.openweathermap.org/data/2.5/weather?\"\n",
    "units = \"imperial\" \n",
    "appid = api_key\n",
    "settings = {\"units\": \"imperial\", \"appid\": api_key}\n",
    "query_url = f\"{url}appid={api_key}&units={units}&q=\"\n",
    "# query_url"
   ]
  },
  {
   "cell_type": "code",
   "execution_count": null,
   "metadata": {},
   "outputs": [],
   "source": [
    "#create empty lists\n",
    "citylist = []\n",
    "count = 0\n",
    "dups = 'no'\n",
    "\n",
    "for x in range(-90,90,1):\n",
    "    for y in range(-180,180,1):\n",
    "        city = citipy.nearest_city(x, y)\n",
    "        city_dict = {}\n",
    "        city_dict['city'] = city.city_name\n",
    "        city_dict['country'] = city.country_code\n",
    "        city_dict['lat'] = x\n",
    "        city_dict['long'] = y\n",
    "        if len(citylist) == 0:\n",
    "            citylist.append(city_dict)\n",
    "            count+=1\n",
    "            continue\n",
    "        else:\n",
    "            # no dupes\n",
    "            for city in citylist:\n",
    "                if city['city'] == city_dict['city']:\n",
    "                    dups = 'yes'\n",
    "        if dups == 'no':\n",
    "            citylist.append(city_dict)\n",
    "            count+=1\n",
    "        else:\n",
    "            dups = 'no'\n",
    "\n",
    "print(len(citylist))"
   ]
  },
  {
   "cell_type": "code",
   "execution_count": null,
   "metadata": {},
   "outputs": [],
   "source": [
    "# get 50, then later 500 random cities / use list comprehension\n",
    "citypd = pd.DataFrame({\n",
    "    'city': [x['city'] for x in citylist],\n",
    "    'country': [x['country'] for x in citylist],\n",
    "})\n",
    "\n",
    "citypd.head()\n",
    "\n",
    "samplecity = citypd.sample(500)\n",
    "\n",
    "# test city 45\n",
    "# print(citylist[45])"
   ]
  },
  {
   "cell_type": "code",
   "execution_count": null,
   "metadata": {},
   "outputs": [],
   "source": [
    "count = 0\n",
    "weather_json = []\n",
    "\n",
    "for index,row in samplecity.iterrows():\n",
    "    count+= 1\n",
    "    query_url = url + \"appid=\" + api_key + \"&units=\" + units + \"&q=\" + row['city']\n",
    "    try:\n",
    "        weather_response = requests.get(query_url)\n",
    "        cityweather = weather_response.json()\n",
    "        weather_json.append(cityweather)\n",
    "        city1 = data.get(\"name\")\n",
    "        city.append(city1)\n",
    "        country1 = data.get(\"sys\").get(\"country\")\n",
    "        country.append(country1)\n",
    "    except:\n",
    "        #print(f\"No data for this city: {row['city']}\")\n",
    "        print(f\"Processing Record {count}/500 | {row['city']}\")\n",
    "        print(query_url)\n",
    "\n",
    "# print success note for a sanity check\n",
    "print(\"-\"*47)\n",
    "print(\"                Data Collected\")\n",
    "print(\"-\"*47)"
   ]
  },
  {
   "cell_type": "code",
   "execution_count": null,
   "metadata": {
    "collapsed": true
   },
   "outputs": [],
   "source": [
    "# create place to store lists\n",
    "city = []\n",
    "country = []\n",
    "latitude = []\n",
    "longtitude = []\n",
    "\n",
    "temperature = []\n",
    "humidity = []\n",
    "\n",
    "cloudiness = []\n",
    "wind_speed = []\n",
    "max_temp = []"
   ]
  },
  {
   "cell_type": "code",
   "execution_count": null,
   "metadata": {},
   "outputs": [],
   "source": [
    "for data in weather_json:\n",
    "    try:\n",
    "        weather_response = requests.get(query_url)\n",
    "        cityweather = weather_response.json()\n",
    "        lat1 = data.get(\"coord\").get(\"lat\")\n",
    "        latitude.append(lat1)\n",
    "        temp1 = data.get(\"main\").get(\"temp\")\n",
    "        temperature.append(temp1)\n",
    "        city1 = data.get(\"name\")\n",
    "        city.append(city1)\n",
    "        country1 = data.get(\"sys\").get(\"country\")\n",
    "        country.append(country1)\n",
    "        humid1 = data.get(\"main\").get(\"humidity\")\n",
    "        humidity.append(humid1)\n",
    "        cloud1 = data.get(\"clouds\").get(\"all\")\n",
    "        cloudiness.append(cloud1)\n",
    "        wind1 = data.get(\"wind\").get(\"speed\")\n",
    "        wind_speed.append(wind1)\n",
    "        long1 = data.get(\"coord\").get(\"lon\")\n",
    "        longtitude.append(long1)\n",
    "        temps1 = data.get(\"main\").get(\"temp_max\")\n",
    "        max_temp.append(temps1)\n",
    "        \n",
    "    except:\n",
    "        pass\n",
    "\n",
    "    continue\n",
    "\n",
    "weather_dict = {\"city\":city, \"Country\":country, \"Temperature (F)\": temperature, \"Latitude\": latitude, \"Longitude\":longtitude,\n",
    "                \"Humidity\": humidity, \"Cloudiness\":cloudiness,\"Wind Speed\":wind_speed, \"Max_Temp\":max_temp}\n",
    "weather_df = pd.DataFrame(weather_dict)\n",
    "weather_df.head(10)"
   ]
  },
  {
   "cell_type": "code",
   "execution_count": null,
   "metadata": {},
   "outputs": [],
   "source": [
    "weather_df.count()"
   ]
  },
  {
   "cell_type": "code",
   "execution_count": null,
   "metadata": {
    "collapsed": true
   },
   "outputs": [],
   "source": [
    "weather_df.to_csv(\"WeatherPy.csv\",encoding=\"utf-8\",index=False)"
   ]
  },
  {
   "cell_type": "code",
   "execution_count": null,
   "metadata": {
    "collapsed": true
   },
   "outputs": [],
   "source": [
    "# latitude vs temp (F)\n",
    "date = time.strftime(\"%m/%d/%Y\")\n",
    "plt.scatter(weather_df[\"Latitude\"], \n",
    "            weather_df[\"Max_Temp\"])\n",
    "plt.title(f\" Latitude vs. Max Temperature (F) {date}\")\n",
    "plt.ylabel(\"Max Temperature (F)\")\n",
    "plt.xlabel(\"Latitude\")\n",
    "plt.xlim((-90,90))\n",
    "plt.grid(True)\n",
    "\n",
    "plt.savefig(\"LatVsTemp_F.png\")\n",
    "\n",
    "plt.show()"
   ]
  },
  {
   "cell_type": "code",
   "execution_count": null,
   "metadata": {},
   "outputs": [],
   "source": [
    "# latitude vs humidity (%)\n",
    "plt.scatter(weather_df[\"Latitude\"], \n",
    "            weather_df[\"Humidity\"])\n",
    "plt.title(f\"Latitude vs. Humidity (%) {date}\")\n",
    "plt.ylabel(\"Humidity (%)\")\n",
    "plt.xlabel(\"Latitude\")\n",
    "plt.xlim((-90,90))\n",
    "plt.grid(True)\n",
    "\n",
    "plt.savefig(\"LatVsHumidity_percent.png\")\n",
    "\n",
    "plt.show()"
   ]
  },
  {
   "cell_type": "code",
   "execution_count": null,
   "metadata": {},
   "outputs": [],
   "source": [
    "# latitude vs clouds (%)\n",
    "plt.scatter(weather_df[\"Latitude\"], \n",
    "            weather_df[\"Cloudiness\"])\n",
    "plt.title(f\"Latitude vs. Cloudiness {date}\")\n",
    "plt.ylabel(\"Cloudiness (%)\")\n",
    "plt.xlabel(\"Latitude\")\n",
    "plt.xlim((-90,90))\n",
    "plt.grid(True)\n",
    "\n",
    "plt.savefig(\"LatVsClouds_percent.png\")\n",
    "\n",
    "plt.show()"
   ]
  },
  {
   "cell_type": "code",
   "execution_count": null,
   "metadata": {},
   "outputs": [],
   "source": [
    "# latitude vs cloudiness (%)\n",
    "plt.scatter(weather_df[\"Latitude\"], \n",
    "            weather_df[\"Wind Speed\"])\n",
    "plt.title(f\"Latitude vs. Wind Speed {date}\")\n",
    "plt.ylabel(\"Wind Speed (MPH)\")\n",
    "plt.xlabel(\"Latitude\")\n",
    "plt.xlim((-90,90))\n",
    "plt.grid(True)\n",
    "\n",
    "plt.savefig(\"LatVsWinds_MPH.png\")\n",
    "\n",
    "plt.show()"
   ]
  },
  {
   "cell_type": "code",
   "execution_count": null,
   "metadata": {
    "collapsed": true
   },
   "outputs": [],
   "source": []
  }
 ],
 "metadata": {
  "kernelspec": {
   "display_name": "Python 3",
   "language": "python",
   "name": "python3"
  },
  "language_info": {
   "codemirror_mode": {
    "name": "ipython",
    "version": 3
   },
   "file_extension": ".py",
   "mimetype": "text/x-python",
   "name": "python",
   "nbconvert_exporter": "python",
   "pygments_lexer": "ipython3",
   "version": "3.6.3"
  }
 },
 "nbformat": 4,
 "nbformat_minor": 2
}
