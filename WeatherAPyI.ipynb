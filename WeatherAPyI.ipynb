{
 "cells": [
  {
   "cell_type": "code",
   "execution_count": 1,
   "metadata": {
    "collapsed": true
   },
   "outputs": [],
   "source": [
    "# dependencies\n",
    "import pandas as pd\n",
    "from citipy import citipy\n",
    "import matplotlib.pyplot as plt\n",
    "import random"
   ]
  },
  {
   "cell_type": "code",
   "execution_count": 2,
   "metadata": {},
   "outputs": [],
   "source": [
    "# dependencies for OpenWeatherMap API\n",
    "import json\n",
    "import requests\n",
    "from config import api_key\n",
    "import numpy as np"
   ]
  },
  {
   "cell_type": "code",
   "execution_count": 4,
   "metadata": {},
   "outputs": [
    {
     "data": {
      "text/plain": [
       "'http://api.openweathermap.org/data/2.5/weather?appid=cb0f4478220431ff8da62d9f9d9102fc&units=imperial&q='"
      ]
     },
     "execution_count": 4,
     "metadata": {},
     "output_type": "execute_result"
    }
   ],
   "source": [
    "# config info\n",
    "url = \"http://api.openweathermap.org/data/2.5/weather?\"\n",
    "units = \"imperial\" \n",
    "appid = api_key\n",
    "settings = {\"units\": \"imperial\", \"appid\": api_key}\n",
    "query_url = f\"{url}appid={api_key}&units={units}&q=\"\n",
    "# query_url"
   ]
  },
  {
   "cell_type": "code",
   "execution_count": 5,
   "metadata": {},
   "outputs": [
    {
     "name": "stdout",
     "output_type": "stream",
     "text": [
      "7957\n"
     ]
    }
   ],
   "source": [
    "#create empty lists\n",
    "citylist = []\n",
    "count = 0\n",
    "dups = 'no'\n",
    "\n",
    "for x in range(-90,90,1):\n",
    "    for y in range(-180,180,1):\n",
    "        city = citipy.nearest_city(x, y)\n",
    "        city_dict = {}\n",
    "        city_dict['city'] = city.city_name\n",
    "        city_dict['country'] = city.country_code\n",
    "        city_dict['lat'] = x\n",
    "        city_dict['long'] = y\n",
    "        if len(citylist) == 0:\n",
    "            citylist.append(city_dict)\n",
    "            count+=1\n",
    "            continue\n",
    "        else:\n",
    "            # no dupes\n",
    "            for city in citylist:\n",
    "                if city['city'] == city_dict['city']:\n",
    "                    dups = 'yes'\n",
    "        if dups == 'no':\n",
    "            citylist.append(city_dict)\n",
    "            count+=1\n",
    "        else:\n",
    "            dups = 'no'\n",
    "\n",
    "print(len(citylist))"
   ]
  },
  {
   "cell_type": "code",
   "execution_count": 9,
   "metadata": {},
   "outputs": [
    {
     "name": "stdout",
     "output_type": "stream",
     "text": [
      "{'city': 'waipawa', 'country': 'nz', 'lat': -49, 'long': 179}\n"
     ]
    }
   ],
   "source": [
    "# get 50, then later 500 random cities / use list comprehension\n",
    "citypd = pd.DataFrame({\n",
    "    'city': [x['city'] for x in citylist],\n",
    "    'country': [x['country'] for x in citylist],\n",
    "})\n",
    "\n",
    "citypd.head()\n",
    "\n",
    "samplecity = citypd.sample(500)\n",
    "\n",
    "# test city 45\n",
    "# print(citylist[45])"
   ]
  },
  {
   "cell_type": "code",
   "execution_count": 17,
   "metadata": {},
   "outputs": [
    {
     "name": "stdout",
     "output_type": "stream",
     "text": [
      "Processing Record 1/50 | sukhoy log\n",
      "http://api.openweathermap.org/data/2.5/weather?appid=cb0f4478220431ff8da62d9f9d9102fc&units=imperial&q=sukhoy log\n",
      "Processing Record 2/50 | baijiantan\n",
      "http://api.openweathermap.org/data/2.5/weather?appid=cb0f4478220431ff8da62d9f9d9102fc&units=imperial&q=baijiantan\n",
      "Processing Record 3/50 | chapais\n",
      "http://api.openweathermap.org/data/2.5/weather?appid=cb0f4478220431ff8da62d9f9d9102fc&units=imperial&q=chapais\n",
      "Processing Record 4/50 | romny\n",
      "http://api.openweathermap.org/data/2.5/weather?appid=cb0f4478220431ff8da62d9f9d9102fc&units=imperial&q=romny\n",
      "Processing Record 5/50 | can\n",
      "http://api.openweathermap.org/data/2.5/weather?appid=cb0f4478220431ff8da62d9f9d9102fc&units=imperial&q=can\n",
      "Processing Record 6/50 | santa comba\n",
      "http://api.openweathermap.org/data/2.5/weather?appid=cb0f4478220431ff8da62d9f9d9102fc&units=imperial&q=santa comba\n",
      "Processing Record 7/50 | yongzhou\n",
      "http://api.openweathermap.org/data/2.5/weather?appid=cb0f4478220431ff8da62d9f9d9102fc&units=imperial&q=yongzhou\n",
      "Processing Record 8/50 | boyolangu\n",
      "http://api.openweathermap.org/data/2.5/weather?appid=cb0f4478220431ff8da62d9f9d9102fc&units=imperial&q=boyolangu\n",
      "Processing Record 9/50 | carmo do rio claro\n",
      "http://api.openweathermap.org/data/2.5/weather?appid=cb0f4478220431ff8da62d9f9d9102fc&units=imperial&q=carmo do rio claro\n",
      "Processing Record 10/50 | yuzhno-yeniseyskiy\n",
      "http://api.openweathermap.org/data/2.5/weather?appid=cb0f4478220431ff8da62d9f9d9102fc&units=imperial&q=yuzhno-yeniseyskiy\n",
      "Processing Record 11/50 | port shepstone\n",
      "http://api.openweathermap.org/data/2.5/weather?appid=cb0f4478220431ff8da62d9f9d9102fc&units=imperial&q=port shepstone\n",
      "Processing Record 12/50 | bela\n",
      "http://api.openweathermap.org/data/2.5/weather?appid=cb0f4478220431ff8da62d9f9d9102fc&units=imperial&q=bela\n",
      "Processing Record 13/50 | smoky lake\n",
      "http://api.openweathermap.org/data/2.5/weather?appid=cb0f4478220431ff8da62d9f9d9102fc&units=imperial&q=smoky lake\n",
      "Processing Record 14/50 | mazatlan\n",
      "http://api.openweathermap.org/data/2.5/weather?appid=cb0f4478220431ff8da62d9f9d9102fc&units=imperial&q=mazatlan\n",
      "Processing Record 15/50 | virden\n",
      "http://api.openweathermap.org/data/2.5/weather?appid=cb0f4478220431ff8da62d9f9d9102fc&units=imperial&q=virden\n",
      "Processing Record 16/50 | jiaojiang\n",
      "http://api.openweathermap.org/data/2.5/weather?appid=cb0f4478220431ff8da62d9f9d9102fc&units=imperial&q=jiaojiang\n",
      "Processing Record 17/50 | cangzhou\n",
      "http://api.openweathermap.org/data/2.5/weather?appid=cb0f4478220431ff8da62d9f9d9102fc&units=imperial&q=cangzhou\n",
      "Processing Record 18/50 | we\n",
      "http://api.openweathermap.org/data/2.5/weather?appid=cb0f4478220431ff8da62d9f9d9102fc&units=imperial&q=we\n",
      "Processing Record 19/50 | las choapas\n",
      "http://api.openweathermap.org/data/2.5/weather?appid=cb0f4478220431ff8da62d9f9d9102fc&units=imperial&q=las choapas\n",
      "Processing Record 20/50 | zanzibar\n",
      "http://api.openweathermap.org/data/2.5/weather?appid=cb0f4478220431ff8da62d9f9d9102fc&units=imperial&q=zanzibar\n",
      "Processing Record 21/50 | kyle\n",
      "http://api.openweathermap.org/data/2.5/weather?appid=cb0f4478220431ff8da62d9f9d9102fc&units=imperial&q=kyle\n",
      "Processing Record 22/50 | dunda\n",
      "http://api.openweathermap.org/data/2.5/weather?appid=cb0f4478220431ff8da62d9f9d9102fc&units=imperial&q=dunda\n",
      "Processing Record 23/50 | oranjemund\n",
      "http://api.openweathermap.org/data/2.5/weather?appid=cb0f4478220431ff8da62d9f9d9102fc&units=imperial&q=oranjemund\n",
      "Processing Record 24/50 | sao joaquim\n",
      "http://api.openweathermap.org/data/2.5/weather?appid=cb0f4478220431ff8da62d9f9d9102fc&units=imperial&q=sao joaquim\n",
      "Processing Record 25/50 | pathein\n",
      "http://api.openweathermap.org/data/2.5/weather?appid=cb0f4478220431ff8da62d9f9d9102fc&units=imperial&q=pathein\n",
      "Processing Record 26/50 | sadon\n",
      "http://api.openweathermap.org/data/2.5/weather?appid=cb0f4478220431ff8da62d9f9d9102fc&units=imperial&q=sadon\n",
      "Processing Record 27/50 | stamsund\n",
      "http://api.openweathermap.org/data/2.5/weather?appid=cb0f4478220431ff8da62d9f9d9102fc&units=imperial&q=stamsund\n",
      "Processing Record 28/50 | niono\n",
      "http://api.openweathermap.org/data/2.5/weather?appid=cb0f4478220431ff8da62d9f9d9102fc&units=imperial&q=niono\n",
      "Processing Record 29/50 | bud\n",
      "http://api.openweathermap.org/data/2.5/weather?appid=cb0f4478220431ff8da62d9f9d9102fc&units=imperial&q=bud\n",
      "Processing Record 30/50 | zalesovo\n",
      "http://api.openweathermap.org/data/2.5/weather?appid=cb0f4478220431ff8da62d9f9d9102fc&units=imperial&q=zalesovo\n",
      "Processing Record 31/50 | bolshiye berezniki\n",
      "http://api.openweathermap.org/data/2.5/weather?appid=cb0f4478220431ff8da62d9f9d9102fc&units=imperial&q=bolshiye berezniki\n",
      "Processing Record 32/50 | tome\n",
      "http://api.openweathermap.org/data/2.5/weather?appid=cb0f4478220431ff8da62d9f9d9102fc&units=imperial&q=tome\n",
      "Processing Record 33/50 | nyamuswa\n",
      "http://api.openweathermap.org/data/2.5/weather?appid=cb0f4478220431ff8da62d9f9d9102fc&units=imperial&q=nyamuswa\n",
      "Processing Record 34/50 | uvat\n",
      "http://api.openweathermap.org/data/2.5/weather?appid=cb0f4478220431ff8da62d9f9d9102fc&units=imperial&q=uvat\n",
      "Processing Record 35/50 | jawa\n",
      "http://api.openweathermap.org/data/2.5/weather?appid=cb0f4478220431ff8da62d9f9d9102fc&units=imperial&q=jawa\n",
      "Processing Record 36/50 | nynashamn\n",
      "http://api.openweathermap.org/data/2.5/weather?appid=cb0f4478220431ff8da62d9f9d9102fc&units=imperial&q=nynashamn\n",
      "Processing Record 37/50 | iwanai\n",
      "http://api.openweathermap.org/data/2.5/weather?appid=cb0f4478220431ff8da62d9f9d9102fc&units=imperial&q=iwanai\n",
      "Processing Record 38/50 | ormond beach\n",
      "http://api.openweathermap.org/data/2.5/weather?appid=cb0f4478220431ff8da62d9f9d9102fc&units=imperial&q=ormond beach\n",
      "Processing Record 39/50 | yarega\n",
      "http://api.openweathermap.org/data/2.5/weather?appid=cb0f4478220431ff8da62d9f9d9102fc&units=imperial&q=yarega\n",
      "Processing Record 40/50 | cotoca\n",
      "http://api.openweathermap.org/data/2.5/weather?appid=cb0f4478220431ff8da62d9f9d9102fc&units=imperial&q=cotoca\n",
      "Processing Record 41/50 | leskovac\n",
      "http://api.openweathermap.org/data/2.5/weather?appid=cb0f4478220431ff8da62d9f9d9102fc&units=imperial&q=leskovac\n",
      "Processing Record 42/50 | jenison\n",
      "http://api.openweathermap.org/data/2.5/weather?appid=cb0f4478220431ff8da62d9f9d9102fc&units=imperial&q=jenison\n",
      "Processing Record 43/50 | vila do maio\n",
      "http://api.openweathermap.org/data/2.5/weather?appid=cb0f4478220431ff8da62d9f9d9102fc&units=imperial&q=vila do maio\n",
      "Processing Record 44/50 | chatra\n",
      "http://api.openweathermap.org/data/2.5/weather?appid=cb0f4478220431ff8da62d9f9d9102fc&units=imperial&q=chatra\n",
      "Processing Record 45/50 | wicklow\n",
      "http://api.openweathermap.org/data/2.5/weather?appid=cb0f4478220431ff8da62d9f9d9102fc&units=imperial&q=wicklow\n",
      "Processing Record 46/50 | santa fe\n",
      "http://api.openweathermap.org/data/2.5/weather?appid=cb0f4478220431ff8da62d9f9d9102fc&units=imperial&q=santa fe\n",
      "Processing Record 47/50 | senneterre\n",
      "http://api.openweathermap.org/data/2.5/weather?appid=cb0f4478220431ff8da62d9f9d9102fc&units=imperial&q=senneterre\n",
      "Processing Record 48/50 | redwater\n",
      "http://api.openweathermap.org/data/2.5/weather?appid=cb0f4478220431ff8da62d9f9d9102fc&units=imperial&q=redwater\n",
      "Processing Record 49/50 | avanigadda\n",
      "http://api.openweathermap.org/data/2.5/weather?appid=cb0f4478220431ff8da62d9f9d9102fc&units=imperial&q=avanigadda\n",
      "Processing Record 50/50 | sosnogorsk\n",
      "http://api.openweathermap.org/data/2.5/weather?appid=cb0f4478220431ff8da62d9f9d9102fc&units=imperial&q=sosnogorsk\n",
      "-----------------------------------------------\n",
      "                Data Collected\n",
      "-----------------------------------------------\n"
     ]
    }
   ],
   "source": [
    "count = 0\n",
    "weather_json = []\n",
    "\n",
    "for index,row in samplecity.iterrows():\n",
    "    count+= 1\n",
    "    query_url = url + \"appid=\" + api_key + \"&units=\" + units + \"&q=\" + row['city']\n",
    "    try:\n",
    "        weather_response = requests.get(query_url)\n",
    "        cityweather = weather_response.json()\n",
    "        weather_json.append(cityweather)\n",
    "        city1 = data.get(\"name\")\n",
    "        city.append(city1)\n",
    "        country1 = data.get(\"sys\").get(\"country\")\n",
    "        country.append(country1)\n",
    "    except:\n",
    "        #print(f\"No data for this city: {row['city']}\")\n",
    "        print(f\"Processing Record {count}/50 | {row['city']}\")\n",
    "        print(query_url)\n",
    "\n",
    "print(\"-\"*47)\n",
    "print(\"                Data Collected\")\n",
    "print(\"-\"*47)"
   ]
  },
  {
   "cell_type": "code",
   "execution_count": 18,
   "metadata": {
    "collapsed": true
   },
   "outputs": [],
   "source": [
    "# create place to store lists\n",
    "city = []\n",
    "country = []\n",
    "latitude = []\n",
    "longtitude = []\n",
    "\n",
    "temperature = []\n",
    "humidity = []\n",
    "\n",
    "cloudiness = []\n",
    "wind_speed = []\n",
    "max_temp = []"
   ]
  },
  {
   "cell_type": "code",
   "execution_count": 19,
   "metadata": {},
   "outputs": [
    {
     "data": {
      "text/html": [
       "<div>\n",
       "<style>\n",
       "    .dataframe thead tr:only-child th {\n",
       "        text-align: right;\n",
       "    }\n",
       "\n",
       "    .dataframe thead th {\n",
       "        text-align: left;\n",
       "    }\n",
       "\n",
       "    .dataframe tbody tr th {\n",
       "        vertical-align: top;\n",
       "    }\n",
       "</style>\n",
       "<table border=\"1\" class=\"dataframe\">\n",
       "  <thead>\n",
       "    <tr style=\"text-align: right;\">\n",
       "      <th></th>\n",
       "      <th>Cloudiness</th>\n",
       "      <th>Country</th>\n",
       "      <th>Humidity</th>\n",
       "      <th>Latitude</th>\n",
       "      <th>Longitude</th>\n",
       "      <th>Max_Temp</th>\n",
       "      <th>Temperature (F)</th>\n",
       "      <th>Wind Speed</th>\n",
       "      <th>city</th>\n",
       "    </tr>\n",
       "  </thead>\n",
       "  <tbody>\n",
       "    <tr>\n",
       "      <th>0</th>\n",
       "      <td>48</td>\n",
       "      <td>RU</td>\n",
       "      <td>70</td>\n",
       "      <td>56.90</td>\n",
       "      <td>62.03</td>\n",
       "      <td>4.41</td>\n",
       "      <td>4.41</td>\n",
       "      <td>2.64</td>\n",
       "      <td>Sukhoy Log</td>\n",
       "    </tr>\n",
       "    <tr>\n",
       "      <th>1</th>\n",
       "      <td>36</td>\n",
       "      <td>CN</td>\n",
       "      <td>78</td>\n",
       "      <td>45.63</td>\n",
       "      <td>85.18</td>\n",
       "      <td>47.66</td>\n",
       "      <td>47.66</td>\n",
       "      <td>2.64</td>\n",
       "      <td>Baijiantan</td>\n",
       "    </tr>\n",
       "    <tr>\n",
       "      <th>2</th>\n",
       "      <td>90</td>\n",
       "      <td>CA</td>\n",
       "      <td>85</td>\n",
       "      <td>49.78</td>\n",
       "      <td>-74.86</td>\n",
       "      <td>21.20</td>\n",
       "      <td>21.20</td>\n",
       "      <td>3.36</td>\n",
       "      <td>Chapais</td>\n",
       "    </tr>\n",
       "    <tr>\n",
       "      <th>3</th>\n",
       "      <td>80</td>\n",
       "      <td>UA</td>\n",
       "      <td>94</td>\n",
       "      <td>50.74</td>\n",
       "      <td>33.49</td>\n",
       "      <td>29.52</td>\n",
       "      <td>29.52</td>\n",
       "      <td>12.30</td>\n",
       "      <td>Romny</td>\n",
       "    </tr>\n",
       "    <tr>\n",
       "      <th>4</th>\n",
       "      <td>90</td>\n",
       "      <td>IT</td>\n",
       "      <td>93</td>\n",
       "      <td>46.08</td>\n",
       "      <td>11.97</td>\n",
       "      <td>50.00</td>\n",
       "      <td>50.00</td>\n",
       "      <td>5.82</td>\n",
       "      <td>Can</td>\n",
       "    </tr>\n",
       "    <tr>\n",
       "      <th>5</th>\n",
       "      <td>75</td>\n",
       "      <td>ES</td>\n",
       "      <td>100</td>\n",
       "      <td>43.03</td>\n",
       "      <td>-8.81</td>\n",
       "      <td>50.00</td>\n",
       "      <td>47.35</td>\n",
       "      <td>6.93</td>\n",
       "      <td>Santa Comba</td>\n",
       "    </tr>\n",
       "    <tr>\n",
       "      <th>6</th>\n",
       "      <td>12</td>\n",
       "      <td>CN</td>\n",
       "      <td>85</td>\n",
       "      <td>26.46</td>\n",
       "      <td>111.60</td>\n",
       "      <td>66.15</td>\n",
       "      <td>66.15</td>\n",
       "      <td>4.09</td>\n",
       "      <td>Yongzhou</td>\n",
       "    </tr>\n",
       "    <tr>\n",
       "      <th>7</th>\n",
       "      <td>12</td>\n",
       "      <td>ID</td>\n",
       "      <td>85</td>\n",
       "      <td>-8.09</td>\n",
       "      <td>111.90</td>\n",
       "      <td>81.99</td>\n",
       "      <td>81.99</td>\n",
       "      <td>0.74</td>\n",
       "      <td>Boyolangu</td>\n",
       "    </tr>\n",
       "    <tr>\n",
       "      <th>8</th>\n",
       "      <td>0</td>\n",
       "      <td>BR</td>\n",
       "      <td>100</td>\n",
       "      <td>-20.97</td>\n",
       "      <td>-46.12</td>\n",
       "      <td>66.06</td>\n",
       "      <td>66.06</td>\n",
       "      <td>2.13</td>\n",
       "      <td>Carmo do Rio Claro</td>\n",
       "    </tr>\n",
       "    <tr>\n",
       "      <th>9</th>\n",
       "      <td>80</td>\n",
       "      <td>ZA</td>\n",
       "      <td>91</td>\n",
       "      <td>-30.74</td>\n",
       "      <td>30.45</td>\n",
       "      <td>72.54</td>\n",
       "      <td>72.54</td>\n",
       "      <td>15.32</td>\n",
       "      <td>Port Shepstone</td>\n",
       "    </tr>\n",
       "  </tbody>\n",
       "</table>\n",
       "</div>"
      ],
      "text/plain": [
       "   Cloudiness Country  Humidity  Latitude  Longitude  Max_Temp  \\\n",
       "0          48      RU        70     56.90      62.03      4.41   \n",
       "1          36      CN        78     45.63      85.18     47.66   \n",
       "2          90      CA        85     49.78     -74.86     21.20   \n",
       "3          80      UA        94     50.74      33.49     29.52   \n",
       "4          90      IT        93     46.08      11.97     50.00   \n",
       "5          75      ES       100     43.03      -8.81     50.00   \n",
       "6          12      CN        85     26.46     111.60     66.15   \n",
       "7          12      ID        85     -8.09     111.90     81.99   \n",
       "8           0      BR       100    -20.97     -46.12     66.06   \n",
       "9          80      ZA        91    -30.74      30.45     72.54   \n",
       "\n",
       "   Temperature (F)  Wind Speed                city  \n",
       "0             4.41        2.64          Sukhoy Log  \n",
       "1            47.66        2.64          Baijiantan  \n",
       "2            21.20        3.36             Chapais  \n",
       "3            29.52       12.30               Romny  \n",
       "4            50.00        5.82                 Can  \n",
       "5            47.35        6.93         Santa Comba  \n",
       "6            66.15        4.09            Yongzhou  \n",
       "7            81.99        0.74           Boyolangu  \n",
       "8            66.06        2.13  Carmo do Rio Claro  \n",
       "9            72.54       15.32      Port Shepstone  "
      ]
     },
     "execution_count": 19,
     "metadata": {},
     "output_type": "execute_result"
    }
   ],
   "source": [
    "for data in weather_json:\n",
    "    try:\n",
    "        weather_response = requests.get(query_url)\n",
    "        cityweather = weather_response.json()\n",
    "        lat1 = data.get(\"coord\").get(\"lat\")\n",
    "        latitude.append(lat1)\n",
    "        temp1 = data.get(\"main\").get(\"temp\")\n",
    "        temperature.append(temp1)\n",
    "        city1 = data.get(\"name\")\n",
    "        city.append(city1)\n",
    "        country1 = data.get(\"sys\").get(\"country\")\n",
    "        country.append(country1)\n",
    "        humid1 = data.get(\"main\").get(\"humidity\")\n",
    "        humidity.append(humid1)\n",
    "        cloud1 = data.get(\"clouds\").get(\"all\")\n",
    "        cloudiness.append(cloud1)\n",
    "        wind1 = data.get(\"wind\").get(\"speed\")\n",
    "        wind_speed.append(wind1)\n",
    "        long1 = data.get(\"coord\").get(\"lon\")\n",
    "        longtitude.append(long1)\n",
    "        temps1 = data.get(\"main\").get(\"temp_max\")\n",
    "        max_temp.append(temps1)\n",
    "        \n",
    "    except:\n",
    "        pass\n",
    "\n",
    "    continue\n",
    "\n",
    "weather_dict = {\"city\":city, \"Country\":country, \"Temperature (F)\": temperature, \"Latitude\": latitude, \"Longitude\":longtitude,\n",
    "                \"Humidity\": humidity, \"Cloudiness\":cloudiness,\"Wind Speed\":wind_speed, \"Max_Temp\":max_temp}\n",
    "weather_df = pd.DataFrame(weather_dict)\n",
    "weather_df.head(10)"
   ]
  },
  {
   "cell_type": "code",
   "execution_count": 20,
   "metadata": {},
   "outputs": [
    {
     "data": {
      "text/plain": [
       "Cloudiness         44\n",
       "Country            44\n",
       "Humidity           44\n",
       "Latitude           44\n",
       "Longitude          44\n",
       "Max_Temp           44\n",
       "Temperature (F)    44\n",
       "Wind Speed         44\n",
       "city               44\n",
       "dtype: int64"
      ]
     },
     "execution_count": 20,
     "metadata": {},
     "output_type": "execute_result"
    }
   ],
   "source": [
    "weather_df.count()"
   ]
  },
  {
   "cell_type": "code",
   "execution_count": 21,
   "metadata": {
    "collapsed": true
   },
   "outputs": [],
   "source": [
    "weather_df.to_csv(\"WeatherPy.csv\",encoding=\"utf-8\",index=False)"
   ]
  },
  {
   "cell_type": "code",
   "execution_count": 23,
   "metadata": {
    "collapsed": true
   },
   "outputs": [],
   "source": [
    "# dependencies for plots\n",
    "import time"
   ]
  },
  {
   "cell_type": "code",
   "execution_count": 25,
   "metadata": {},
   "outputs": [],
   "source": [
    "# latitude vs temp (F)\n",
    "date = time.strftime(\"%m/%d/%Y\")\n",
    "plt.scatter(weather_df[\"Latitude\"], \n",
    "            weather_df[\"Max_Temp\"])\n",
    "plt.title(f\" Latitude vs. Max Temperature (F) {date}\")\n",
    "plt.ylabel(\"Max Temperature (F)\")\n",
    "plt.xlabel(\"Latitude\")\n",
    "plt.xlim((-90,90))\n",
    "plt.grid(True)\n",
    "\n",
    "plt.savefig(\"LatVsTemp_F.png\")"
   ]
  },
  {
   "cell_type": "code",
   "execution_count": 26,
   "metadata": {},
   "outputs": [
    {
     "data": {
      "image/png": "[encoded data removed]",
      "text/plain": [
       "<matplotlib.figure.Figure at 0x11811a470>"
      ]
     },
     "metadata": {},
     "output_type": "display_data"
    }
   ],
   "source": [
    "plt.show()"
   ]
  },
  {
   "cell_type": "code",
   "execution_count": 27,
   "metadata": {
    "collapsed": true
   },
   "outputs": [],
   "source": [
    "# latitude vs humidity (%)\n",
    "plt.scatter(weather_df[\"Latitude\"], \n",
    "            weather_df[\"Humidity\"])\n",
    "plt.title(f\"Latitude vs. Humidity (%) {date}\")\n",
    "plt.ylabel(\"Humidity (%)\")\n",
    "plt.xlabel(\"Latitude\")\n",
    "plt.xlim((-90,90))\n",
    "plt.grid(True)\n",
    "\n",
    "plt.savefig(\"LatVsHumidity_percent.png\")"
   ]
  },
  {
   "cell_type": "code",
   "execution_count": 28,
   "metadata": {},
   "outputs": [
    {
     "data": {
      "image/png": "[encoded data removed]",
      "text/plain": [
       "<matplotlib.figure.Figure at 0x11bd53128>"
      ]
     },
     "metadata": {},
     "output_type": "display_data"
    }
   ],
   "source": [
    "plt.show()"
   ]
  },
  {
   "cell_type": "code",
   "execution_count": 29,
   "metadata": {
    "collapsed": true
   },
   "outputs": [],
   "source": [
    "# latitude vs clouds (%)\n",
    "plt.scatter(weather_df[\"Latitude\"], \n",
    "            weather_df[\"Cloudiness\"])\n",
    "plt.title(f\"Latitude vs. Cloudiness {date}\")\n",
    "plt.ylabel(\"Cloudiness (%)\")\n",
    "plt.xlabel(\"Latitude\")\n",
    "plt.xlim((-90,90))\n",
    "plt.grid(True)\n",
    "\n",
    "plt.savefig(\"LatVsClouds_percent.png\")"
   ]
  },
  {
   "cell_type": "code",
   "execution_count": 30,
   "metadata": {},
   "outputs": [
    {
     "data": {
      "image/png": "[encoded data removed]",
      "text/plain": [
       "<matplotlib.figure.Figure at 0x11be88a58>"
      ]
     },
     "metadata": {},
     "output_type": "display_data"
    }
   ],
   "source": [
    "plt.show()"
   ]
  },
  {
   "cell_type": "code",
   "execution_count": 31,
   "metadata": {
    "collapsed": true
   },
   "outputs": [],
   "source": [
    "# latitude vs cloudiness (%)\n",
    "plt.scatter(weather_df[\"Latitude\"], \n",
    "            weather_df[\"Wind Speed\"])\n",
    "plt.title(f\"Latitude vs. Wind Speed {date}\")\n",
    "plt.ylabel(\"Wind Speed (MPH)\")\n",
    "plt.xlabel(\"Latitude\")\n",
    "plt.xlim((-90,90))\n",
    "plt.grid(True)\n",
    "\n",
    "plt.savefig(\"LatVsWinds_MPH.png\")"
   ]
  },
  {
   "cell_type": "code",
   "execution_count": 32,
   "metadata": {},
   "outputs": [
    {
     "data": {
      "image/png": "[encoded data removed]",
      "text/plain": [
       "<matplotlib.figure.Figure at 0x11bfad668>"
      ]
     },
     "metadata": {},
     "output_type": "display_data"
    }
   ],
   "source": [
    "plt.show()"
   ]
  },
  {
   "cell_type": "code",
   "execution_count": null,
   "metadata": {
    "collapsed": true
   },
   "outputs": [],
   "source": []
  }
 ],
 "metadata": {
  "kernelspec": {
   "display_name": "Python 3",
   "language": "python",
   "name": "python3"
  },
  "language_info": {
   "codemirror_mode": {
    "name": "ipython",
    "version": 3
   },
   "file_extension": ".py",
   "mimetype": "text/x-python",
   "name": "python",
   "nbconvert_exporter": "python",
   "pygments_lexer": "ipython3",
   "version": "3.6.1"
  }
 },
 "nbformat": 4,
 "nbformat_minor": 2
}
